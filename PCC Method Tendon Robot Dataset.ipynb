{
 "cells": [
  {
   "cell_type": "code",
   "execution_count": null,
   "id": "432da7af",
   "metadata": {},
   "outputs": [],
   "source": [
    "import numpy as np\n",
    "import math\n",
    "import matplotlib.pyplot as plt\n",
    "import random\n",
    "import pandas as pd"
   ]
  },
  {
   "cell_type": "markdown",
   "id": "3f6eb274",
   "metadata": {},
   "source": [
    "### Robot Parameters"
   ]
  },
  {
   "cell_type": "code",
   "execution_count": null,
   "id": "65b9e7db",
   "metadata": {},
   "outputs": [],
   "source": [
    "radius = 20\n",
    "noSegments = 1\n",
    "segLength = 340"
   ]
  },
  {
   "cell_type": "markdown",
   "id": "5ee46456",
   "metadata": {},
   "source": [
    "### Transformation Functions"
   ]
  },
  {
   "cell_type": "code",
   "execution_count": null,
   "id": "fdfee488",
   "metadata": {},
   "outputs": [],
   "source": [
    "def actuator_to_configSpace(Tl):\n",
    "    '''\n",
    "    Perform Transformation from actuator to configuration space for 4 tendon continuum robot\n",
    "    \n",
    "    Input: \n",
    "        Tl -- list consisting of tendon lengths\n",
    "    Output:\n",
    "        k -- Robot Curvature\n",
    "        l -- Robot length\n",
    "        phi -- Bending angle\n",
    "    '''\n",
    "    pi = math.pi\n",
    "    if Tl[2]==Tl[0] and Tl[3]==Tl[1] and Tl[2]==Tl[3]:\n",
    "        phi = 0\n",
    "    elif Tl[2]==Tl[0] and Tl[3]==Tl[1]:\n",
    "        phi = -pi/2\n",
    "    elif Tl[2]==Tl[0]:\n",
    "        phi = pi/2\n",
    "    else:\n",
    "        phi = math.atan((Tl[3]-Tl[1])/(Tl[2]-Tl[0]))\n",
    "\n",
    "    if Tl[2]==Tl[0] and Tl[3]==Tl[1] and Tl[2]==Tl[3]:\n",
    "        k = 0\n",
    "    elif Tl[3]==Tl[1] and Tl[2]==Tl[0]:\n",
    "        k = (Tl[0]-3*Tl[1]+Tl[2]+Tl[3])*math.sqrt(2)/(radius*sum(Tl))\n",
    "    elif Tl[3]==Tl[1]:\n",
    "        k = (Tl[1]-3*Tl[0]+Tl[2]+Tl[3])*math.sqrt((Tl[3]-Tl[1])**2+(Tl[2]-Tl[0])**2)/(radius*sum(Tl)*(Tl[2]-Tl[0]))\n",
    "    else:\n",
    "        k = (Tl[0]-3*Tl[1]+Tl[2]+Tl[3])*math.sqrt((Tl[3]-Tl[1])**2+(Tl[2]-Tl[0])**2)/(radius*sum(Tl)*(Tl[3]-Tl[1]))\n",
    "\n",
    "    l = sum(Tl)/4\n",
    "    return k,l,phi"
   ]
  },
  {
   "cell_type": "code",
   "execution_count": null,
   "id": "eae89ce0",
   "metadata": {},
   "outputs": [],
   "source": [
    "def rotation(ax=[0,0,1],tht=0):\n",
    "    [x,y,z] = ax\n",
    "    c = math.cos(tht)\n",
    "    s = math.sin(tht)\n",
    "    R = [[(1-c)*x**2+c,(1-c)*x*y-s*z,(1-c)*x*z+s*y],\n",
    "         [(1-c)*x*y+s*z,(1-c)*y**2+c,(1-c)*z*y-s*x],\n",
    "         [(1-c)*x*z-s*y,(1-c)*z*y+s*x,(1-c)*z**2+c]]\n",
    "    R= np.array(R)\n",
    "    return R"
   ]
  },
  {
   "cell_type": "code",
   "execution_count": null,
   "id": "999ec981",
   "metadata": {},
   "outputs": [],
   "source": [
    "def transform(rot,trans):\n",
    "    Tr = np.append(rot,trans,axis=1)\n",
    "    Tr = np.append(Tr,[[0,0,0,1]],axis=0)\n",
    "    return Tr"
   ]
  },
  {
   "cell_type": "code",
   "execution_count": null,
   "id": "d2799fa1",
   "metadata": {},
   "outputs": [],
   "source": [
    "def config_to_taskSpace(k,l,phi):\n",
    "    \n",
    "    p0 = [[0],[0],[0]]\n",
    "    if k == 0:\n",
    "        p = [[0],[0],[l]]\n",
    "    else:\n",
    "        p = [[(1-math.cos(k*l))/k],[0],[math.sin(k*l)/k]]\n",
    "\n",
    "    Tbr = transform(rotation(tht=phi),p0)\n",
    "    theta = k*l\n",
    "    Trt = transform(rotation(ax=[0,1,0],tht=theta),p)\n",
    "    Ttm = transform(rotation(tht=-phi),p0)\n",
    "    \n",
    "    Tf = np.matmul(Tbr,Trt)\n",
    "    Tf = np.matmul(Tf,Ttm)\n",
    "    return Tf"
   ]
  },
  {
   "cell_type": "code",
   "execution_count": null,
   "id": "e5e5b3c3",
   "metadata": {},
   "outputs": [],
   "source": [
    "def rotation_quaternion(R):\n",
    "    \n",
    "    tr = np.trace(R)\n",
    "    \n",
    "    if tr>0:\n",
    "        S = math.sqrt(tr+1)*2\n",
    "        qw = 0.25 * S\n",
    "        qx = (R[2][1] - R[1][2])/S\n",
    "        qy = (R[0][2] - R[2][0])/S \n",
    "        qz = (R[1][0] - R[0][1])/S\n",
    "    elif (R[0][0] > R[1][1]) and (R[0][0] > R[2][2]):\n",
    "        S = math.sqrt(1+R[0][0]-R[1][1]-R[2][2])*2\n",
    "        qw = (R[2][1] - R[1][2])/S\n",
    "        qx = 0.25 * S\n",
    "        qy = (R[0][1] + R[1][0])/S\n",
    "        qz = (R[0][2] + R[2][0])/S \n",
    "    elif (R[1][1] > R[2][2]):\n",
    "        S = math.sqrt(1+R[1][1]-R[0][0]-R[2][2])*2\n",
    "        qw = (R[2][0] - R[0][2])/S\n",
    "        qx = (R[0][1] + R[1][0])/S\n",
    "        qy = 0.25 * S\n",
    "        qz = (R[1][2] + R[2][1])/S \n",
    "    else:\n",
    "        S = math.sqrt(1+R[2][2]-R[0][0]-R[1][1])*2\n",
    "        qw = (R[1][0] - R[0][1])/S\n",
    "        qx = (R[0][2] + R[2][0])/S \n",
    "        qy = (R[2][1] + R[1][2])/S\n",
    "        qz = 0.25 * S \n",
    "    \n",
    "    return [qw,qx,qy,qz]"
   ]
  },
  {
   "cell_type": "markdown",
   "id": "e3921329",
   "metadata": {},
   "source": [
    "### Input Parameter Dataset"
   ]
  },
  {
   "cell_type": "code",
   "execution_count": null,
   "id": "48725435",
   "metadata": {},
   "outputs": [],
   "source": [
    "# pi = math.pi\n",
    "# K = np.arange(0,pi/(2*segLength),0.00004)\n",
    "# l = segLength\n",
    "# PHI= np.arange(0,2*pi,0.01)\n",
    "# position = []\n",
    "# param = []\n",
    "# for i in range(K.shape[0]):\n",
    "#     for j in range(PHI.shape[0]):\n",
    "#         T = config_to_taskSpace(K[i],l,PHI[j])\n",
    "#         param.append([K[i],l,PHI[j]])\n",
    "#         position.append(T[:3,-1])"
   ]
  },
  {
   "cell_type": "code",
   "execution_count": null,
   "id": "22866848",
   "metadata": {},
   "outputs": [],
   "source": [
    "position=[]\n",
    "orientation = []\n",
    "config=[]\n",
    "pi = math.pi\n",
    "Actcuator = []\n",
    "normal = [340,340,340,340]\n",
    "for l1 in range(segLength-30,segLength+31):\n",
    "    for l2 in range(segLength-30,segLength+31):\n",
    "        for l3 in range(segLength-30,segLength+31):\n",
    "            for l4 in range(segLength-30,segLength+31):\n",
    "                #value = np.random.randint(-30,30,4)\n",
    "                length = [l1,l2,l3,l4]\n",
    "#                 if len(Actcuator)!=0 and (length == Actcuator).any():\n",
    "#                     print(\"Helo\")\n",
    "#                     continue\n",
    "                k,l,phi = actuator_to_configSpace(length)\n",
    "                if abs(k*l)>pi/2:\n",
    "                    continue\n",
    "                T = config_to_taskSpace(k,l,phi)\n",
    "                quat = rotation_quaternion(T[0:3,0:3])\n",
    "                orientation.append(quat)\n",
    "                Actcuator.append(length)\n",
    "                config.append([k,l,phi])\n",
    "                position.append(T[:3,-1])\n",
    "                if phi>=0:\n",
    "                    phi+=math.pi\n",
    "                elif phi<0:\n",
    "                    phi = math.pi - abs(phi)\n",
    "                T = config_to_taskSpace(k,l,phi)\n",
    "                quat = rotation_quaternion(T[0:3,0:3])\n",
    "                orientation.append(quat)\n",
    "                Actcuator.append(length)\n",
    "                config.append([k,l,phi])\n",
    "                position.append(T[:3,-1])"
   ]
  },
  {
   "cell_type": "code",
   "execution_count": null,
   "id": "46997046",
   "metadata": {},
   "outputs": [],
   "source": [
    "inputLength = np.array(Actcuator)\n",
    "position = np.array(position)\n",
    "orientation = np.array(orientation)"
   ]
  },
  {
   "cell_type": "markdown",
   "id": "bfe6af66",
   "metadata": {},
   "source": [
    "### Workspace"
   ]
  },
  {
   "cell_type": "code",
   "execution_count": null,
   "id": "85bb8124",
   "metadata": {},
   "outputs": [],
   "source": [
    "xdata = []\n",
    "ydata = []\n",
    "zdata = []\n",
    "for i in range(len(position)):\n",
    "    if position[i][2]<400:\n",
    "        xdata.append(position[i][0])\n",
    "        ydata.append(position[i][1])\n",
    "        zdata.append(position[i][2])"
   ]
  },
  {
   "cell_type": "code",
   "execution_count": null,
   "id": "ff00c8e6",
   "metadata": {},
   "outputs": [],
   "source": [
    "fig = plt.figure(figsize=(10, 10))\n",
    "ax = fig.add_subplot(111, projection='3d')\n",
    "ax.scatter3D(xdata, ydata, zdata, c=zdata);"
   ]
  },
  {
   "cell_type": "code",
   "execution_count": null,
   "id": "a6533d45",
   "metadata": {},
   "outputs": [],
   "source": [
    "arr = np.concatenate((position,orientation,inputLength),axis=1)\n",
    "df = pd.DataFrame(arr) "
   ]
  },
  {
   "cell_type": "code",
   "execution_count": null,
   "id": "047c7de4",
   "metadata": {},
   "outputs": [],
   "source": [
    "df.to_csv(\"CompleteWorkspace_quat.csv\")"
   ]
  },
  {
   "cell_type": "code",
   "execution_count": null,
   "id": "712a33e3",
   "metadata": {},
   "outputs": [],
   "source": [
    "index = np.random.randint(0,position.shape[0]-1,20000)\n",
    "positionRandom = position[index]\n",
    "LengthRandom = inputLength[index]\n",
    "OrRandom = orientation[index]"
   ]
  },
  {
   "cell_type": "code",
   "execution_count": null,
   "id": "84f90a9e",
   "metadata": {},
   "outputs": [],
   "source": [
    "xdata = []\n",
    "ydata = []\n",
    "zdata = []\n",
    "for i in range(len(positionRandom)):\n",
    "    if positionRandom[i][2]<400:\n",
    "        xdata.append(positionRandom[i][0])\n",
    "        ydata.append(positionRandom[i][1])\n",
    "        zdata.append(positionRandom[i][2])"
   ]
  },
  {
   "cell_type": "code",
   "execution_count": null,
   "id": "6e0adbd2",
   "metadata": {},
   "outputs": [],
   "source": [
    "fig = plt.figure(figsize=(10, 10))\n",
    "ax = fig.add_subplot(111, projection='3d')\n",
    "ax.scatter3D(xdata, ydata, zdata, c=zdata);"
   ]
  },
  {
   "cell_type": "code",
   "execution_count": null,
   "id": "55b8ce53",
   "metadata": {},
   "outputs": [],
   "source": [
    "arr = np.concatenate((positionRandom,OrRandom,LengthRandom),axis=1)\n",
    "df = pd.DataFrame(arr) "
   ]
  },
  {
   "cell_type": "code",
   "execution_count": null,
   "id": "61ff75e3",
   "metadata": {},
   "outputs": [],
   "source": [
    "df.to_csv(\"MLDataset_quat.csv\")"
   ]
  },
  {
   "cell_type": "code",
   "execution_count": null,
   "id": "533c7a2c",
   "metadata": {},
   "outputs": [],
   "source": []
  }
 ],
 "metadata": {
  "kernelspec": {
   "display_name": "Python 3",
   "language": "python",
   "name": "python3"
  },
  "language_info": {
   "codemirror_mode": {
    "name": "ipython",
    "version": 3
   },
   "file_extension": ".py",
   "mimetype": "text/x-python",
   "name": "python",
   "nbconvert_exporter": "python",
   "pygments_lexer": "ipython3",
   "version": "3.8.5"
  }
 },
 "nbformat": 4,
 "nbformat_minor": 5
}
