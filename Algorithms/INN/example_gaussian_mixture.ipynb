{
 "cells": [
  {
   "cell_type": "markdown",
   "metadata": {
    "colab": {
     "base_uri": "https://localhost:8080/"
    },
    "id": "dcZL4LHRnZ6v",
    "outputId": "a06097fc-4c4c-4335-a10a-9fb44592e106"
   },
   "source": [
    "# Example: Gaussian Mixture\n",
    "\n",
    "- 2020-11-29 first uploaded\n",
    "- 2021-04-08 backward loss updated"
   ]
  },
  {
   "cell_type": "code",
   "execution_count": 2,
   "metadata": {
    "colab": {
     "base_uri": "https://localhost:8080/"
    },
    "id": "OidApFl0n3ll",
    "outputId": "f7978b66-c400-47ac-a3d9-c0528f54fc07"
   },
   "outputs": [
    {
     "name": "stdout",
     "output_type": "stream",
     "text": [
      "2.8.0\n",
      "Python 3.9.7\n"
     ]
    }
   ],
   "source": [
    "from IPython.display import HTML\n",
    "import matplotlib.pyplot as plt\n",
    "from matplotlib import cm\n",
    "import numpy as np\n",
    "import itertools\n",
    "from flow import *\n",
    "from utils import *\n",
    "from sklearn.preprocessing import StandardScaler,MinMaxScaler\n",
    "from tensorflow.keras.optimizers import Adam,RMSprop\n",
    "import pandas as pd\n",
    "import tensorflow as tf\n",
    "print(tf.__version__)\n",
    "!python --version"
   ]
  },
  {
   "cell_type": "markdown",
   "metadata": {},
   "source": [
    "## Settings"
   ]
  },
  {
   "cell_type": "code",
   "execution_count": 3,
   "metadata": {
    "id": "bL7OG5h4ng3J"
   },
   "outputs": [],
   "source": [
    "dataS = pd.read_csv('MLDataset_quat.csv')\n",
    "dataS = dataS.drop('Unnamed: 0',axis=1)\n",
    "scaler = MinMaxScaler(feature_range=(0,1))\n",
    "scaler.fit(dataS)\n",
    "dataS = scaler.transform(dataS)\n",
    "Y = dataS[:,:7]\n",
    "#X = np.log(X+np.ones(X.shape))\n",
    "X = dataS[:,7:]\n",
    "x_dim = X.shape[1]\n",
    "y_dim = Y.shape[1]\n",
    "z_dim = 5\n",
    "tot_dim = y_dim + z_dim\n",
    "pad_dim = tot_dim - x_dim\n",
    "n_data = X.shape[0]\n",
    "n_couple_layer = 4\n",
    "n_hid_layer = 2\n",
    "n_hid_dim = 32\n",
    "\n",
    "n_batch = 128\n",
    "n_epoch = 100\n",
    "n_display = 5"
   ]
  },
  {
   "cell_type": "code",
   "execution_count": 4,
   "metadata": {
    "id": "k-rNSDc5pyjz"
   },
   "outputs": [
    {
     "name": "stdout",
     "output_type": "stream",
     "text": [
      "(60000, 12)\n",
      "(60000, 12)\n"
     ]
    }
   ],
   "source": [
    "# Pad data\n",
    "pad_x = np.zeros((X.shape[0], pad_dim))\n",
    "x_data = np.concatenate([X, pad_x], axis=-1).astype('float32')\n",
    "print(x_data.shape)\n",
    "z = np.random.multivariate_normal([0.]*z_dim, np.eye(z_dim), X.shape[0])\n",
    "y_data = np.concatenate([z, Y], axis=-1).astype('float32')\n",
    "print(y_data.shape)\n",
    "# Make dataset generator\n",
    "x_data = tf.data.Dataset.from_tensor_slices(x_data)\n",
    "y_data = tf.data.Dataset.from_tensor_slices(y_data)\n",
    "dataset = (tf.data.Dataset.zip((x_data, y_data))\n",
    "           .shuffle(buffer_size=X.shape[0])\n",
    "           .batch(n_batch, drop_remainder=True)\n",
    "           .repeat())"
   ]
  },
  {
   "cell_type": "markdown",
   "metadata": {},
   "source": [
    "## Initialize the model"
   ]
  },
  {
   "cell_type": "code",
   "execution_count": 5,
   "metadata": {
    "colab": {
     "base_uri": "https://localhost:8080/"
    },
    "id": "pEAw90SZng-B",
    "outputId": "107f120e-4905-4093-bca8-bffe778b7068"
   },
   "outputs": [
    {
     "name": "stdout",
     "output_type": "stream",
     "text": [
      "Model: \"NVP\"\n",
      "_________________________________________________________________\n",
      " Layer (type)                Output Shape              Param #   \n",
      "=================================================================\n",
      " Layer0 (TwoNVPCouplingLayer  multiple                 7588      \n",
      " s)                                                              \n",
      "                                                                 \n",
      " Layer1 (TwoNVPCouplingLayer  multiple                 7588      \n",
      " s)                                                              \n",
      "                                                                 \n",
      " Layer2 (TwoNVPCouplingLayer  multiple                 7588      \n",
      " s)                                                              \n",
      "                                                                 \n",
      " Layer3 (TwoNVPCouplingLayer  multiple                 7588      \n",
      " s)                                                              \n",
      "                                                                 \n",
      "=================================================================\n",
      "Total params: 30,352\n",
      "Trainable params: 30,304\n",
      "Non-trainable params: 48\n",
      "_________________________________________________________________\n"
     ]
    }
   ],
   "source": [
    "model = NVP(tot_dim, n_couple_layer, n_hid_layer, n_hid_dim, name='NVP')\n",
    "x = tfk.Input((tot_dim,))\n",
    "model(x);\n",
    "model.summary()"
   ]
  },
  {
   "cell_type": "code",
   "execution_count": 6,
   "metadata": {
    "id": "FKI6S4FIza5w"
   },
   "outputs": [],
   "source": [
    "class Trainer(tfk.Model):\n",
    "    def __init__(self, model, x_dim, y_dim, z_dim, tot_dim, \n",
    "                 n_couple_layer, n_hid_layer, n_hid_dim, shuffle_type='reverse'):\n",
    "        super(Trainer, self).__init__()\n",
    "        self.model = model\n",
    "        self.x_dim = x_dim\n",
    "        self.y_dim = y_dim\n",
    "        self.z_dim = z_dim\n",
    "        self.tot_dim = tot_dim\n",
    "        self.x_pad_dim = tot_dim - x_dim\n",
    "        self.y_pad_dim = tot_dim - (y_dim + z_dim)\n",
    "        self.n_couple_layer = n_couple_layer\n",
    "        self.n_hid_layer = n_hid_layer\n",
    "        self.n_hid_dim = n_hid_dim\n",
    "        self.shuffle_type = shuffle_type\n",
    "\n",
    "        self.w1 = 5.\n",
    "        self.w2 = 1.\n",
    "        self.w3 = 10.\n",
    "        self.loss_factor = 1.\n",
    "        self.loss_fit = MSE\n",
    "        self.loss_latent = MMD_multiscale\n",
    "        self.loss_backward = MSE\n",
    "\n",
    "    def train_step(self, data):\n",
    "        x_data, y_data = data\n",
    "        x = x_data[:, :self.x_dim]\n",
    "        y = y_data[:, -self.y_dim:]\n",
    "        z = y_data[:, :self.z_dim]\n",
    "        y_short = tf.concat([z, y], axis=-1)\n",
    "\n",
    "        # Forward loss\n",
    "        with tf.GradientTape() as tape:\n",
    "            y_out = self.model(x_data)    \n",
    "            pred_loss = self.w1 * self.loss_fit(y_data[:,self.z_dim:], y_out[:,self.z_dim:]) # [zeros, y] <=> [zeros, yhat]\n",
    "            output_block_grad = tf.concat([y_out[:,:self.z_dim], y_out[:, -self.y_dim:]], axis=-1) # take out [z, y] only (not zeros)\n",
    "            latent_loss = self.w2 * self.loss_latent(y_short, output_block_grad) # [z, y] <=> [zhat, yhat]\n",
    "            forward_loss = pred_loss + latent_loss\n",
    "        grads_forward = tape.gradient(forward_loss, self.model.trainable_weights)\n",
    "        self.optimizer.apply_gradients(zip(grads_forward, self.model.trainable_weights))\n",
    "\n",
    "        # Backward loss\n",
    "        with tf.GradientTape() as tape:\n",
    "            x_rev = self.model.inverse(y_data)\n",
    "            #rev_loss = self.w3 * self.loss_factor * self.loss_fit(x_rev, x_data)\n",
    "            rev_loss = self.w3 * self.loss_factor * self.loss_backward(x_rev, x_data)\n",
    "        grads_backward = tape.gradient(rev_loss, self.model.trainable_weights)\n",
    "        self.optimizer.apply_gradients(zip(grads_backward, self.model.trainable_weights)) \n",
    "\n",
    "        total_loss = forward_loss + latent_loss + rev_loss\n",
    "        return {'total_loss': total_loss,\n",
    "                'forward_loss': forward_loss,\n",
    "                'latent_loss': latent_loss,\n",
    "                'rev_loss': rev_loss}\n",
    "\n",
    "    def test_step(self, data):\n",
    "        x_data, y_data = data\n",
    "        return NotImplementedError"
   ]
  },
  {
   "cell_type": "code",
   "execution_count": 7,
   "metadata": {
    "id": "nUkERU5_zbi4"
   },
   "outputs": [],
   "source": [
    "trainer = Trainer(model, x_dim, y_dim, z_dim, tot_dim, n_couple_layer, n_hid_layer, n_hid_dim)\n",
    "opt=RMSprop(learning_rate=0.0001)\n",
    "optAdam = Adam(amsgrad=True)\n",
    "trainer.compile(optimizer='RMSprop')"
   ]
  },
  {
   "cell_type": "markdown",
   "metadata": {},
   "source": [
    "## Train the model"
   ]
  },
  {
   "cell_type": "code",
   "execution_count": 8,
   "metadata": {
    "colab": {
     "base_uri": "https://localhost:8080/"
    },
    "id": "1K5KckgzzbnJ",
    "outputId": "0abf86fe-cb7b-4d31-b63d-fece392dd25b",
    "scrolled": false
   },
   "outputs": [
    {
     "name": "stdout",
     "output_type": "stream",
     "text": [
      "=== Started at 2022-03-31 06h:36m:24s ===\n",
      " 2022-03-31 06h:36m:34s | Epoch: 001/100 | total_loss=0.444102 forward_loss=0.149133 latent_loss=0.095500 rev_loss=0.199469\n",
      " 2022-03-31 06h:36m:44s | Epoch: 005/100 | total_loss=0.284156 forward_loss=0.086731 latent_loss=0.062031 rev_loss=0.135394\n",
      " 2022-03-31 06h:36m:54s | Epoch: 010/100 | total_loss=0.238216 forward_loss=0.066338 latent_loss=0.050029 rev_loss=0.121850\n",
      " 2022-03-31 06h:37m:04s | Epoch: 015/100 | total_loss=0.233324 forward_loss=0.067802 latent_loss=0.050068 rev_loss=0.115453\n",
      " 2022-03-31 06h:37m:15s | Epoch: 020/100 | total_loss=0.210365 forward_loss=0.060326 latent_loss=0.052209 rev_loss=0.097830\n",
      " 2022-03-31 06h:37m:27s | Epoch: 025/100 | total_loss=0.236470 forward_loss=0.070490 latent_loss=0.056191 rev_loss=0.109790\n",
      " 2022-03-31 06h:37m:38s | Epoch: 030/100 | total_loss=0.262271 forward_loss=0.074160 latent_loss=0.057395 rev_loss=0.130716\n",
      " 2022-03-31 06h:37m:50s | Epoch: 035/100 | total_loss=0.209471 forward_loss=0.059257 latent_loss=0.051776 rev_loss=0.098439\n",
      " 2022-03-31 06h:38m:00s | Epoch: 040/100 | total_loss=0.201271 forward_loss=0.056659 latent_loss=0.048470 rev_loss=0.096142\n",
      " 2022-03-31 06h:38m:10s | Epoch: 045/100 | total_loss=0.239793 forward_loss=0.066551 latent_loss=0.050853 rev_loss=0.122390\n",
      " 2022-03-31 06h:38m:21s | Epoch: 050/100 | total_loss=0.202386 forward_loss=0.052892 latent_loss=0.046713 rev_loss=0.102781\n",
      " 2022-03-31 06h:38m:31s | Epoch: 055/100 | total_loss=0.222369 forward_loss=0.062068 latent_loss=0.046823 rev_loss=0.113478\n",
      " 2022-03-31 06h:38m:43s | Epoch: 060/100 | total_loss=0.221280 forward_loss=0.056203 latent_loss=0.049328 rev_loss=0.115749\n",
      " 2022-03-31 06h:38m:53s | Epoch: 065/100 | total_loss=0.204257 forward_loss=0.053145 latent_loss=0.046361 rev_loss=0.104751\n",
      " 2022-03-31 06h:39m:03s | Epoch: 070/100 | total_loss=0.186508 forward_loss=0.052902 latent_loss=0.046798 rev_loss=0.086807\n",
      " 2022-03-31 06h:39m:14s | Epoch: 075/100 | total_loss=0.205338 forward_loss=0.054797 latent_loss=0.048161 rev_loss=0.102379\n",
      " 2022-03-31 06h:39m:24s | Epoch: 080/100 | total_loss=0.185227 forward_loss=0.059561 latent_loss=0.052892 rev_loss=0.072775\n",
      " 2022-03-31 06h:39m:35s | Epoch: 085/100 | total_loss=0.192750 forward_loss=0.050945 latent_loss=0.046148 rev_loss=0.095657\n",
      " 2022-03-31 06h:39m:45s | Epoch: 090/100 | total_loss=0.192823 forward_loss=0.053808 latent_loss=0.045993 rev_loss=0.093022\n",
      " 2022-03-31 06h:39m:55s | Epoch: 095/100 | total_loss=0.195590 forward_loss=0.053016 latent_loss=0.046019 rev_loss=0.096554\n",
      " 2022-03-31 06h:40m:06s | Epoch: 100/100 | total_loss=0.225578 forward_loss=0.056129 latent_loss=0.050407 rev_loss=0.119042\n",
      "=== Time elapsed: 3.6852 min ===\n",
      "CPU times: total: 12min 7s\n",
      "Wall time: 3min 41s\n"
     ]
    }
   ],
   "source": [
    "%%time\n",
    "LossFactor = UpdateLossFactor(n_epoch)\n",
    "logger = NBatchLogger(n_display, n_epoch)\n",
    "hist = trainer.fit(dataset,\n",
    "                   batch_size=n_batch,\n",
    "                   epochs=n_epoch,\n",
    "                   steps_per_epoch=n_data//n_batch, \n",
    "                   callbacks=[logger, LossFactor], \n",
    "                   verbose=0)"
   ]
  },
  {
   "cell_type": "code",
   "execution_count": 9,
   "metadata": {},
   "outputs": [],
   "source": [
    "pred_result = []\n",
    "for j in range(100):\n",
    "    z = np.random.randn(100,z_dim)\n",
    "    xn = []\n",
    "    for i in range(z.shape[0]):\n",
    "        y = np.concatenate([z[[i],:], Y[[j],:]], axis=-1).astype('float32')\n",
    "        x_pred = model.inverse(y).numpy()\n",
    "        xn.append(list(x_pred[:,:X.shape[1]]))\n",
    "    pred_result.append(xn)"
   ]
  },
  {
   "cell_type": "code",
   "execution_count": 10,
   "metadata": {},
   "outputs": [],
   "source": [
    "z = np.random.randn(100,z_dim)\n",
    "xn = []\n",
    "for i in range(z.shape[0]):\n",
    "    y = np.concatenate([z[[i],:], Y[[-18],:]], axis=-1).astype('float32')\n",
    "    x_pred = model.inverse(y).numpy()\n",
    "    xn.append(list(x_pred[:,:X.shape[1]]))"
   ]
  },
  {
   "cell_type": "code",
   "execution_count": 11,
   "metadata": {},
   "outputs": [
    {
     "data": {
      "text/plain": [
       "array([0.61666667, 0.51666667, 0.48333333, 0.25      ])"
      ]
     },
     "execution_count": 11,
     "metadata": {},
     "output_type": "execute_result"
    }
   ],
   "source": [
    "X[-18,:]"
   ]
  },
  {
   "cell_type": "code",
   "execution_count": 12,
   "metadata": {},
   "outputs": [],
   "source": [
    "from sklearn.metrics import r2_score"
   ]
  },
  {
   "cell_type": "code",
   "execution_count": 13,
   "metadata": {},
   "outputs": [],
   "source": [
    "val = []\n",
    "for i in range(len(xn)):\n",
    "    v = r2_score(X[-18,:],xn[i][0])\n",
    "    val.append(v)"
   ]
  },
  {
   "cell_type": "code",
   "execution_count": 14,
   "metadata": {},
   "outputs": [
    {
     "data": {
      "text/plain": [
       "35"
      ]
     },
     "execution_count": 14,
     "metadata": {},
     "output_type": "execute_result"
    }
   ],
   "source": [
    "val.index(max(val))"
   ]
  },
  {
   "cell_type": "code",
   "execution_count": 15,
   "metadata": {
    "scrolled": true
   },
   "outputs": [
    {
     "name": "stdout",
     "output_type": "stream",
     "text": [
      "0.9872047383377135\n",
      "0.3490814423492009\n",
      "0.9654674238937951\n",
      "0.8499559055843247\n",
      "0.8841064574445486\n",
      "0.055595529268484656\n",
      "0.9859494280526775\n",
      "0.9696456969946173\n",
      "0.768042121763414\n",
      "0.4661380156505255\n",
      "0.32675895947501743\n",
      "0.9806724041256547\n",
      "0.07930595319657152\n",
      "0.3091314147850166\n",
      "0.9541589914528819\n",
      "0.8478685274084337\n",
      "0.7227958438862883\n",
      "0.8090816254115798\n",
      "0.32937416024872357\n",
      "0.13318143432495588\n",
      "0.3550588280657676\n",
      "0.9799116524837764\n",
      "0.5433473142547025\n",
      "0.9784601659947081\n",
      "0.9625448125145319\n",
      "0.6698214121449803\n",
      "0.9965576495150537\n",
      "0.9972407007090105\n",
      "0.9912605631909096\n",
      "0.09281234035709873\n",
      "0.8951362212178372\n",
      "0.9174805727742669\n",
      "0.9728933336351397\n",
      "0.9835188381691472\n",
      "0.7238564915011959\n",
      "0.3357473945849965\n",
      "0.43857686599985946\n",
      "0.5529361257469296\n",
      "0.8735683219556557\n",
      "0.9890712549045781\n",
      "-0.9202504511086138\n",
      "0.23855890371802846\n",
      "0.853827639062768\n",
      "0.17731905831129113\n",
      "0.6851604771495043\n",
      "0.9811974475716274\n",
      "0.9469876367505001\n",
      "0.4379725084859133\n",
      "0.9638803225244755\n",
      "0.9532886809307305\n",
      "0.6805043851479509\n",
      "0.8162465551984889\n",
      "0.9666533542194846\n",
      "0.9955863367045673\n",
      "0.6739929513078655\n",
      "0.17247163039036173\n",
      "-0.2538979493327944\n",
      "0.5293805377896833\n",
      "0.23999865285692157\n",
      "0.4929726274851761\n",
      "0.3465336657078236\n",
      "0.840257945779276\n",
      "0.9024428305064419\n",
      "0.8791610099680836\n",
      "0.9744923906931829\n",
      "0.10639060438499037\n",
      "0.571465762604723\n",
      "0.5834195905055333\n",
      "0.8973632855603997\n",
      "0.9882184090294831\n",
      "0.9984950563268195\n",
      "0.7372777366645585\n",
      "0.9895371710327224\n",
      "0.042395916240243636\n",
      "0.7833953897346094\n",
      "0.9625050932881046\n",
      "0.27914015137285286\n",
      "0.10575782457140026\n",
      "0.5984110380847188\n",
      "0.5232032855033356\n",
      "0.9654580614222591\n",
      "0.8423242395705653\n",
      "-0.17600869848014478\n",
      "0.27815707451895155\n",
      "0.09108725230712478\n",
      "0.6006505317486359\n",
      "0.9514703347535071\n",
      "0.8529335265403232\n",
      "0.5443267687048574\n",
      "0.7807110441738088\n",
      "0.46880634132571153\n",
      "0.7705807761472279\n",
      "0.8624683723120625\n",
      "0.9152192273612074\n",
      "0.983132149535529\n",
      "0.09371729623379188\n",
      "0.1862451814687739\n",
      "0.9711537751118376\n",
      "0.9133147053665637\n",
      "0.9819583582242027\n"
     ]
    }
   ],
   "source": [
    "best_result = []\n",
    "for j in range(len(pred_result)):\n",
    "    xn = pred_result[j]\n",
    "    val=[]\n",
    "    for i in range(len(xn)):\n",
    "        v = r2_score(X[j,:],xn[i][0])\n",
    "        val.append(v)\n",
    "    print(max(val))\n",
    "    best_result.append(xn[val.index(max(val))])"
   ]
  },
  {
   "cell_type": "code",
   "execution_count": 16,
   "metadata": {},
   "outputs": [
    {
     "data": {
      "text/plain": [
       "0.7321015873502011"
      ]
     },
     "execution_count": 16,
     "metadata": {},
     "output_type": "execute_result"
    }
   ],
   "source": [
    "sa = np.array(best_result).reshape(np.array(best_result).shape[0],np.array(best_result).shape[-1])\n",
    "r2_score(X[:100,:],sa)"
   ]
  },
  {
   "cell_type": "markdown",
   "metadata": {},
   "source": [
    "## Check results"
   ]
  },
  {
   "cell_type": "code",
   "execution_count": 17,
   "metadata": {
    "colab": {
     "base_uri": "https://localhost:8080/",
     "height": 337
    },
    "id": "rcjLDVopnhLh",
    "outputId": "133a1844-40d7-4fc8-f211-04efa4148b0a"
   },
   "outputs": [
    {
     "data": {
      "text/plain": [
       "<matplotlib.legend.Legend at 0x1c7885e8520>"
      ]
     },
     "execution_count": 17,
     "metadata": {},
     "output_type": "execute_result"
    },
    {
     "data": {
      "image/png": "[encoded data removed]",
      "text/plain": [
       "<Figure size 576x360 with 1 Axes>"
      ]
     },
     "metadata": {},
     "output_type": "display_data"
    }
   ],
   "source": [
    "fig, ax = plt.subplots(1, facecolor='white', figsize=(8,5))\n",
    "ax.plot(hist.history['total_loss'], 'k.-', label='total_loss')\n",
    "ax.plot(hist.history['forward_loss'], 'b.-', label='forward_loss')\n",
    "ax.plot(hist.history['latent_loss'], 'g.-', label='latent_loss')\n",
    "ax.plot(hist.history['rev_loss'], 'r.-', label='inverse_loss')\n",
    "plt.legend()"
   ]
  },
  {
   "cell_type": "code",
   "execution_count": 18,
   "metadata": {},
   "outputs": [
    {
     "data": {
      "text/plain": [
       "array([[4.68948010e-01, 4.32766691e-01, 8.00423050e-01, 9.88003932e-01,\n",
       "        5.53191988e-01, 4.72633381e-01, 3.30197978e-17]])"
      ]
     },
     "execution_count": 18,
     "metadata": {},
     "output_type": "execute_result"
    }
   ],
   "source": [
    "Y[[-18],:]"
   ]
  },
  {
   "cell_type": "code",
   "execution_count": 24,
   "metadata": {},
   "outputs": [
    {
     "ename": "TypeError",
     "evalue": "unhashable type: 'numpy.ndarray'",
     "output_type": "error",
     "traceback": [
      "\u001b[1;31m---------------------------------------------------------------------------\u001b[0m",
      "\u001b[1;31mTypeError\u001b[0m                                 Traceback (most recent call last)",
      "\u001b[1;32mc:\\Users\\satwi\\Documents\\Satwik\\INN\\invertible_neural_networks\\invertible_neural_networks\\example_gaussian_mixture.ipynb Cell 22'\u001b[0m in \u001b[0;36m<cell line: 1>\u001b[1;34m()\u001b[0m\n\u001b[1;32m----> <a href='vscode-notebook-cell:/c%3A/Users/satwi/Documents/Satwik/INN/invertible_neural_networks/invertible_neural_networks/example_gaussian_mixture.ipynb#ch0000023?line=0'>1</a>\u001b[0m uq_labels \u001b[39m=\u001b[39m \u001b[39mlist\u001b[39m(\u001b[39mset\u001b[39;49m(\u001b[39mlist\u001b[39;49m(Y[[\u001b[39m-\u001b[39;49m\u001b[39m18\u001b[39;49m],:])))\n\u001b[0;32m      <a href='vscode-notebook-cell:/c%3A/Users/satwi/Documents/Satwik/INN/invertible_neural_networks/invertible_neural_networks/example_gaussian_mixture.ipynb#ch0000023?line=1'>2</a>\u001b[0m idx2lab \u001b[39m=\u001b[39m {i:lab \u001b[39mfor\u001b[39;00m i, lab \u001b[39min\u001b[39;00m \u001b[39menumerate\u001b[39m(uq_labels)}\n\u001b[0;32m      <a href='vscode-notebook-cell:/c%3A/Users/satwi/Documents/Satwik/INN/invertible_neural_networks/invertible_neural_networks/example_gaussian_mixture.ipynb#ch0000023?line=2'>3</a>\u001b[0m lab2idx \u001b[39m=\u001b[39m {idx2lab[key]:i \u001b[39mfor\u001b[39;00m i, key \u001b[39min\u001b[39;00m \u001b[39menumerate\u001b[39m(idx2lab\u001b[39m.\u001b[39mkeys())}\n",
      "\u001b[1;31mTypeError\u001b[0m: unhashable type: 'numpy.ndarray'"
     ]
    }
   ],
   "source": [
    "uq_labels = list(set(list(Y[[-18],:])))\n",
    "idx2lab = {i:lab for i, lab in enumerate(uq_labels)}\n",
    "lab2idx = {idx2lab[key]:i for i, key in enumerate(idx2lab.keys())}"
   ]
  },
  {
   "cell_type": "code",
   "execution_count": 21,
   "metadata": {
    "colab": {
     "base_uri": "https://localhost:8080/",
     "height": 356
    },
    "id": "uII2sXbwnhPL",
    "outputId": "00062611-b08c-4182-f06e-203cdbe45c27"
   },
   "outputs": [
    {
     "ename": "NameError",
     "evalue": "name 'idx2lab' is not defined",
     "output_type": "error",
     "traceback": [
      "\u001b[1;31m---------------------------------------------------------------------------\u001b[0m",
      "\u001b[1;31mNameError\u001b[0m                                 Traceback (most recent call last)",
      "\u001b[1;32mc:\\Users\\satwi\\Documents\\Satwik\\INN\\invertible_neural_networks\\invertible_neural_networks\\example_gaussian_mixture.ipynb Cell 22'\u001b[0m in \u001b[0;36m<cell line: 6>\u001b[1;34m()\u001b[0m\n\u001b[0;32m      <a href='vscode-notebook-cell:/c%3A/Users/satwi/Documents/Satwik/INN/invertible_neural_networks/invertible_neural_networks/example_gaussian_mixture.ipynb#ch0000021?line=2'>3</a>\u001b[0m x_pred \u001b[39m=\u001b[39m model\u001b[39m.\u001b[39minverse(y)\u001b[39m.\u001b[39mnumpy()\n\u001b[0;32m      <a href='vscode-notebook-cell:/c%3A/Users/satwi/Documents/Satwik/INN/invertible_neural_networks/invertible_neural_networks/example_gaussian_mixture.ipynb#ch0000021?line=4'>5</a>\u001b[0m fig, (ax1, ax2) \u001b[39m=\u001b[39m plt\u001b[39m.\u001b[39msubplots(\u001b[39m1\u001b[39m, \u001b[39m2\u001b[39m, figsize\u001b[39m=\u001b[39m(\u001b[39m10\u001b[39m,\u001b[39m5\u001b[39m), facecolor\u001b[39m=\u001b[39m\u001b[39m'\u001b[39m\u001b[39mwhite\u001b[39m\u001b[39m'\u001b[39m, sharex\u001b[39m=\u001b[39m\u001b[39mTrue\u001b[39;00m, sharey\u001b[39m=\u001b[39m\u001b[39mTrue\u001b[39;00m)\n\u001b[1;32m----> <a href='vscode-notebook-cell:/c%3A/Users/satwi/Documents/Satwik/INN/invertible_neural_networks/invertible_neural_networks/example_gaussian_mixture.ipynb#ch0000021?line=5'>6</a>\u001b[0m \u001b[39mfor\u001b[39;00m i, color \u001b[39min\u001b[39;00m \u001b[39mzip\u001b[39m(idx2lab\u001b[39m.\u001b[39mkeys(), lab2idx\u001b[39m.\u001b[39mkeys()):\n\u001b[0;32m      <a href='vscode-notebook-cell:/c%3A/Users/satwi/Documents/Satwik/INN/invertible_neural_networks/invertible_neural_networks/example_gaussian_mixture.ipynb#ch0000021?line=6'>7</a>\u001b[0m     idx \u001b[39m=\u001b[39m [\u001b[39mTrue\u001b[39;00m \u001b[39mif\u001b[39;00m j\u001b[39m==\u001b[39mi \u001b[39melse\u001b[39;00m \u001b[39mFalse\u001b[39;00m \u001b[39mfor\u001b[39;00m j \u001b[39min\u001b[39;00m y_onehot\u001b[39m.\u001b[39margmax(axis\u001b[39m=\u001b[39m\u001b[39m-\u001b[39m\u001b[39m1\u001b[39m)]\n\u001b[0;32m      <a href='vscode-notebook-cell:/c%3A/Users/satwi/Documents/Satwik/INN/invertible_neural_networks/invertible_neural_networks/example_gaussian_mixture.ipynb#ch0000021?line=7'>8</a>\u001b[0m     ax1\u001b[39m.\u001b[39mscatter(X[idx,\u001b[39m0\u001b[39m], X[idx,\u001b[39m1\u001b[39m], s\u001b[39m=\u001b[39m\u001b[39m1\u001b[39m, c\u001b[39m=\u001b[39mcolor)\n",
      "\u001b[1;31mNameError\u001b[0m: name 'idx2lab' is not defined"
     ]
    },
    {
     "data": {
      "image/png": "[encoded data removed]",
      "text/plain": [
       "<Figure size 720x360 with 2 Axes>"
      ]
     },
     "metadata": {},
     "output_type": "display_data"
    }
   ],
   "source": [
    "z = np.random.multivariate_normal([1.]*z_dim, np.eye(z_dim), Y[[-18],:].shape[0])\n",
    "y = np.concatenate([z,Y[[-18],:]], axis=-1).astype('float32')\n",
    "x_pred = model.inverse(y).numpy()\n",
    "\n",
    "fig, (ax1, ax2) = plt.subplots(1, 2, figsize=(10,5), facecolor='white', sharex=True, sharey=True)\n",
    "for i, color in zip(idx2lab.keys(), lab2idx.keys()):\n",
    "    idx = [True if j==i else False for j in y_onehot.argmax(axis=-1)]\n",
    "    ax1.scatter(X[idx,0], X[idx,1], s=1, c=color)\n",
    "    ax2.scatter(x_pred[idx,0], x_pred[idx,1], s=1, c=color)\n",
    "    ax2.set_xlim([-2, 2])\n",
    "    ax2.set_ylim([-2, 2])\n",
    "plt.suptitle('Original (left)                    Prediction (right)', fontsize=20);"
   ]
  },
  {
   "cell_type": "code",
   "execution_count": null,
   "metadata": {},
   "outputs": [],
   "source": []
  }
 ],
 "metadata": {
  "accelerator": "GPU",
  "colab": {
   "collapsed_sections": [],
   "name": "TMP_inn_multigauss.ipynb",
   "provenance": []
  },
  "kernelspec": {
   "display_name": "Python 3.9.12 64-bit",
   "language": "python",
   "name": "python3"
  },
  "language_info": {
   "codemirror_mode": {
    "name": "ipython",
    "version": 3
   },
   "file_extension": ".py",
   "mimetype": "text/x-python",
   "name": "python",
   "nbconvert_exporter": "python",
   "pygments_lexer": "ipython3",
   "version": "3.9.12"
  },
  "vscode": {
   "interpreter": {
    "hash": "b0fa6594d8f4cbf19f97940f81e996739fb7646882a419484c72d19e05852a7e"
   }
  }
 },
 "nbformat": 4,
 "nbformat_minor": 4
}
